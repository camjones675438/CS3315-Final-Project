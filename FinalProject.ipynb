{
 "cells": [
  {
   "cell_type": "markdown",
   "metadata": {},
   "source": [
    "# Final Project\n",
    "Cameron Jones<br>\n",
    "CS3315<br>\n",
    "Original Data Set: https://www.kaggle.com/rtatman/chocolate-bar-ratings<br><br>\n",
    "Questions:<br>\n",
    "1)\tCan I create a model to accurately predict the rating of a chocolate bar given the traits of the cacao bean?<br>\n",
    "2)\tDo different encodings of categorical values change the accuracy of machine learning models?<br>\n",
    "3)\tDo different granularities of the target variable change the accuracy of machine learning models?"
   ]
  },
  {
   "cell_type": "markdown",
   "metadata": {},
   "source": [
    "### 1. Look at data"
   ]
  },
  {
   "cell_type": "code",
   "execution_count": 1,
   "metadata": {},
   "outputs": [],
   "source": [
    "# imports\n",
    "import pandas as pd\n",
    "import numpy as np\n",
    "import matplotlib.pyplot as plt\n",
    "from sklearn.metrics import precision_score\n",
    "from sklearn.metrics import recall_score\n",
    "from sklearn.model_selection import train_test_split\n",
    "from sklearn.tree import DecisionTreeClassifier\n",
    "from sklearn.metrics import accuracy_score\n",
    "from sklearn.neighbors import KNeighborsClassifier\n",
    "from sklearn.linear_model import LogisticRegression\n",
    "from sklearn.svm import SVC\n",
    "from sklearn.pipeline import make_pipeline\n",
    "from sklearn.preprocessing import StandardScaler\n",
    "from sklearn.ensemble import RandomForestClassifier\n",
    "from sklearn.ensemble import VotingClassifier"
   ]
  },
  {
   "cell_type": "code",
   "execution_count": 2,
   "metadata": {},
   "outputs": [
    {
     "name": "stdout",
     "output_type": "stream",
     "text": [
      "<class 'pandas.core.frame.DataFrame'>\n",
      "RangeIndex: 1795 entries, 0 to 1794\n",
      "Data columns (total 9 columns):\n",
      " #   Column                            Non-Null Count  Dtype  \n",
      "---  ------                            --------------  -----  \n",
      " 0   Company (Maker-if known)          1795 non-null   object \n",
      " 1   Specific Bean Origin or Bar Name  1795 non-null   object \n",
      " 2   REF                               1795 non-null   int64  \n",
      " 3   Review Date                       1795 non-null   int64  \n",
      " 4   Cocoa Percent                     1795 non-null   object \n",
      " 5   Company Location                  1795 non-null   object \n",
      " 6   Rating                            1795 non-null   float64\n",
      " 7   Bean Type                         1794 non-null   object \n",
      " 8   Broad Bean Origin                 1794 non-null   object \n",
      "dtypes: float64(1), int64(2), object(6)\n",
      "memory usage: 126.3+ KB\n"
     ]
    }
   ],
   "source": [
    "# Load data\n",
    "df = pd.read_csv('flavors_of_cacao.csv')\n",
    "df.info()"
   ]
  },
  {
   "cell_type": "code",
   "execution_count": 3,
   "metadata": {},
   "outputs": [
    {
     "data": {
      "text/html": [
       "<div>\n",
       "<style scoped>\n",
       "    .dataframe tbody tr th:only-of-type {\n",
       "        vertical-align: middle;\n",
       "    }\n",
       "\n",
       "    .dataframe tbody tr th {\n",
       "        vertical-align: top;\n",
       "    }\n",
       "\n",
       "    .dataframe thead th {\n",
       "        text-align: right;\n",
       "    }\n",
       "</style>\n",
       "<table border=\"1\" class=\"dataframe\">\n",
       "  <thead>\n",
       "    <tr style=\"text-align: right;\">\n",
       "      <th></th>\n",
       "      <th>Company (Maker-if known)</th>\n",
       "      <th>Specific Bean Origin or Bar Name</th>\n",
       "      <th>REF</th>\n",
       "      <th>Review Date</th>\n",
       "      <th>Cocoa Percent</th>\n",
       "      <th>Company Location</th>\n",
       "      <th>Rating</th>\n",
       "      <th>Bean Type</th>\n",
       "      <th>Broad Bean Origin</th>\n",
       "    </tr>\n",
       "  </thead>\n",
       "  <tbody>\n",
       "    <tr>\n",
       "      <th>0</th>\n",
       "      <td>A. Morin</td>\n",
       "      <td>Agua Grande</td>\n",
       "      <td>1876</td>\n",
       "      <td>2016</td>\n",
       "      <td>63%</td>\n",
       "      <td>France</td>\n",
       "      <td>3.75</td>\n",
       "      <td></td>\n",
       "      <td>Sao Tome</td>\n",
       "    </tr>\n",
       "    <tr>\n",
       "      <th>1</th>\n",
       "      <td>A. Morin</td>\n",
       "      <td>Kpime</td>\n",
       "      <td>1676</td>\n",
       "      <td>2015</td>\n",
       "      <td>70%</td>\n",
       "      <td>France</td>\n",
       "      <td>2.75</td>\n",
       "      <td></td>\n",
       "      <td>Togo</td>\n",
       "    </tr>\n",
       "    <tr>\n",
       "      <th>2</th>\n",
       "      <td>A. Morin</td>\n",
       "      <td>Atsane</td>\n",
       "      <td>1676</td>\n",
       "      <td>2015</td>\n",
       "      <td>70%</td>\n",
       "      <td>France</td>\n",
       "      <td>3.00</td>\n",
       "      <td></td>\n",
       "      <td>Togo</td>\n",
       "    </tr>\n",
       "    <tr>\n",
       "      <th>3</th>\n",
       "      <td>A. Morin</td>\n",
       "      <td>Akata</td>\n",
       "      <td>1680</td>\n",
       "      <td>2015</td>\n",
       "      <td>70%</td>\n",
       "      <td>France</td>\n",
       "      <td>3.50</td>\n",
       "      <td></td>\n",
       "      <td>Togo</td>\n",
       "    </tr>\n",
       "    <tr>\n",
       "      <th>4</th>\n",
       "      <td>A. Morin</td>\n",
       "      <td>Quilla</td>\n",
       "      <td>1704</td>\n",
       "      <td>2015</td>\n",
       "      <td>70%</td>\n",
       "      <td>France</td>\n",
       "      <td>3.50</td>\n",
       "      <td></td>\n",
       "      <td>Peru</td>\n",
       "    </tr>\n",
       "  </tbody>\n",
       "</table>\n",
       "</div>"
      ],
      "text/plain": [
       "  Company (Maker-if known) Specific Bean Origin or Bar Name   REF  \\\n",
       "0                 A. Morin                      Agua Grande  1876   \n",
       "1                 A. Morin                            Kpime  1676   \n",
       "2                 A. Morin                           Atsane  1676   \n",
       "3                 A. Morin                            Akata  1680   \n",
       "4                 A. Morin                           Quilla  1704   \n",
       "\n",
       "   Review Date Cocoa Percent Company Location  Rating Bean Type  \\\n",
       "0         2016           63%           France    3.75             \n",
       "1         2015           70%           France    2.75             \n",
       "2         2015           70%           France    3.00             \n",
       "3         2015           70%           France    3.50             \n",
       "4         2015           70%           France    3.50             \n",
       "\n",
       "  Broad Bean Origin  \n",
       "0          Sao Tome  \n",
       "1              Togo  \n",
       "2              Togo  \n",
       "3              Togo  \n",
       "4              Peru  "
      ]
     },
     "execution_count": 3,
     "metadata": {},
     "output_type": "execute_result"
    }
   ],
   "source": [
    "# Print head of data\n",
    "df.head()"
   ]
  },
  {
   "cell_type": "markdown",
   "metadata": {},
   "source": [
    "# Features:\n",
    "<ul>\n",
    "<li>Company (categorical)</li>\n",
    "<li>Specific Bean Origin (geographical region) (categorical)</li>\n",
    "<li>REF (a value linked to when the data was entered in the database. Higher = more recent) (discrete)</li>\n",
    "<li>Review (year of publication of the review) (discrete)</li>\n",
    "<li>Cocoa (percent of cocoa) (categorical) *change to discrete*</li>\n",
    "<li>CompanyLocation (categorical)</li>\n",
    "<li>Rating (target for classification) (discrete) **target**</li>\n",
    "<li>BeanType (variety of bean) (categorical) (lots of NaNs)</li>\n",
    "<li>Broad BeanOrigin (broader geographical region) (categorical)</li>\n",
    "</ul>"
   ]
  },
  {
   "cell_type": "code",
   "execution_count": 4,
   "metadata": {},
   "outputs": [
    {
     "data": {
      "text/plain": [
       "Company (Maker-if known)            0.000000\n",
       "Specific Bean Origin or Bar Name    0.000000\n",
       "REF                                 0.000000\n",
       "Review Date                         0.000000\n",
       "Cocoa Percent                       0.000000\n",
       "Company Location                    0.000000\n",
       "Rating                              0.000000\n",
       "Bean Type                           0.000557\n",
       "Broad Bean Origin                   0.000557\n",
       "dtype: float64"
      ]
     },
     "execution_count": 4,
     "metadata": {},
     "output_type": "execute_result"
    }
   ],
   "source": [
    "# Check NaNs\n",
    "df.isna().mean()"
   ]
  },
  {
   "cell_type": "code",
   "execution_count": 5,
   "metadata": {},
   "outputs": [
    {
     "data": {
      "text/plain": [
       "Company (Maker-if known)            0\n",
       "Specific Bean Origin or Bar Name    0\n",
       "REF                                 0\n",
       "Review Date                         0\n",
       "Cocoa Percent                       0\n",
       "Company Location                    0\n",
       "Rating                              0\n",
       "Bean Type                           1\n",
       "Broad Bean Origin                   1\n",
       "dtype: int64"
      ]
     },
     "execution_count": 5,
     "metadata": {},
     "output_type": "execute_result"
    }
   ],
   "source": [
    "df.isna().sum()"
   ]
  },
  {
   "cell_type": "code",
   "execution_count": 6,
   "metadata": {},
   "outputs": [
    {
     "data": {
      "text/html": [
       "<div>\n",
       "<style scoped>\n",
       "    .dataframe tbody tr th:only-of-type {\n",
       "        vertical-align: middle;\n",
       "    }\n",
       "\n",
       "    .dataframe tbody tr th {\n",
       "        vertical-align: top;\n",
       "    }\n",
       "\n",
       "    .dataframe thead th {\n",
       "        text-align: right;\n",
       "    }\n",
       "</style>\n",
       "<table border=\"1\" class=\"dataframe\">\n",
       "  <thead>\n",
       "    <tr style=\"text-align: right;\">\n",
       "      <th></th>\n",
       "      <th>Company (Maker-if known)</th>\n",
       "      <th>Specific Bean Origin or Bar Name</th>\n",
       "      <th>REF</th>\n",
       "      <th>Review Date</th>\n",
       "      <th>Cocoa Percent</th>\n",
       "      <th>Company Location</th>\n",
       "      <th>Rating</th>\n",
       "      <th>Bean Type</th>\n",
       "      <th>Broad Bean Origin</th>\n",
       "    </tr>\n",
       "  </thead>\n",
       "  <tbody>\n",
       "    <tr>\n",
       "      <th>1072</th>\n",
       "      <td>Mast Brothers</td>\n",
       "      <td>Madagascar</td>\n",
       "      <td>999</td>\n",
       "      <td>2012</td>\n",
       "      <td>72%</td>\n",
       "      <td>U.S.A.</td>\n",
       "      <td>2.5</td>\n",
       "      <td>Trinitario</td>\n",
       "      <td>NaN</td>\n",
       "    </tr>\n",
       "    <tr>\n",
       "      <th>1544</th>\n",
       "      <td>Soma</td>\n",
       "      <td>Three Amigos(Chuao, Wild Bolivia, D.R.)</td>\n",
       "      <td>676</td>\n",
       "      <td>2011</td>\n",
       "      <td>70%</td>\n",
       "      <td>Canada</td>\n",
       "      <td>4.0</td>\n",
       "      <td>NaN</td>\n",
       "      <td>Ven, Bolivia, D.R.</td>\n",
       "    </tr>\n",
       "  </tbody>\n",
       "</table>\n",
       "</div>"
      ],
      "text/plain": [
       "     Company (Maker-if known)         Specific Bean Origin or Bar Name  REF  \\\n",
       "1072            Mast Brothers                               Madagascar  999   \n",
       "1544                     Soma  Three Amigos(Chuao, Wild Bolivia, D.R.)  676   \n",
       "\n",
       "      Review Date Cocoa Percent Company Location  Rating   Bean Type  \\\n",
       "1072         2012           72%           U.S.A.     2.5  Trinitario   \n",
       "1544         2011           70%           Canada     4.0         NaN   \n",
       "\n",
       "       Broad Bean Origin  \n",
       "1072                 NaN  \n",
       "1544  Ven, Bolivia, D.R.  "
      ]
     },
     "execution_count": 6,
     "metadata": {},
     "output_type": "execute_result"
    }
   ],
   "source": [
    "df[df.isna().any(axis=1)]"
   ]
  },
  {
   "cell_type": "code",
   "execution_count": 7,
   "metadata": {},
   "outputs": [
    {
     "name": "stdout",
     "output_type": "stream",
     "text": [
      "[ ]\n"
     ]
    },
    {
     "name": "stderr",
     "output_type": "stream",
     "text": [
      "C:\\Users\\fishg\\anaconda3\\lib\\site-packages\\pandas\\core\\ops\\array_ops.py:253: FutureWarning: elementwise comparison failed; returning scalar instead, but in the future will perform elementwise comparison\n",
      "  res_values = method(rvalues)\n"
     ]
    },
    {
     "data": {
      "text/plain": [
       "Company (Maker-if known)              0\n",
       "Specific Bean Origin or Bar Name      0\n",
       "REF                                   0\n",
       "Review Date                           0\n",
       "Cocoa Percent                         0\n",
       "Company Location                      0\n",
       "Rating                                0\n",
       "Bean Type                           887\n",
       "Broad Bean Origin                    73\n",
       "dtype: int64"
      ]
     },
     "execution_count": 7,
     "metadata": {},
     "output_type": "execute_result"
    }
   ],
   "source": [
    "print('[' + df['Bean Type'][0] + ']')\n",
    "(df == df['Bean Type'][0]).sum()"
   ]
  },
  {
   "cell_type": "code",
   "execution_count": 8,
   "metadata": {},
   "outputs": [
    {
     "data": {
      "text/plain": [
       "Company (Maker-if known)            0.000000\n",
       "Specific Bean Origin or Bar Name    0.000000\n",
       "REF                                 0.000000\n",
       "Review Date                         0.000000\n",
       "Cocoa Percent                       0.000000\n",
       "Company Location                    0.000000\n",
       "Rating                              0.000000\n",
       "Bean Type                           0.494150\n",
       "Broad Bean Origin                   0.040669\n",
       "dtype: float64"
      ]
     },
     "execution_count": 8,
     "metadata": {},
     "output_type": "execute_result"
    }
   ],
   "source": [
    "(df == df['Bean Type'][0]).mean()"
   ]
  },
  {
   "cell_type": "code",
   "execution_count": 9,
   "metadata": {},
   "outputs": [
    {
     "name": "stdout",
     "output_type": "stream",
     "text": [
      "nan\n",
      "nan\n",
      "Empty DataFrame\n",
      "Columns: [Company (Maker-if known), Specific Bean Origin or Bar Name, REF, Review Date, Cocoa Percent, Company Location, Rating, Bean Type, Broad Bean Origin]\n",
      "Index: []\n"
     ]
    },
    {
     "name": "stderr",
     "output_type": "stream",
     "text": [
      "C:\\Users\\fishg\\anaconda3\\lib\\site-packages\\ipykernel_launcher.py:5: SettingWithCopyWarning: \n",
      "A value is trying to be set on a copy of a slice from a DataFrame\n",
      "\n",
      "See the caveats in the documentation: https://pandas.pydata.org/pandas-docs/stable/user_guide/indexing.html#returning-a-view-versus-a-copy\n",
      "  \"\"\"\n",
      "C:\\Users\\fishg\\anaconda3\\lib\\site-packages\\ipykernel_launcher.py:6: SettingWithCopyWarning: \n",
      "A value is trying to be set on a copy of a slice from a DataFrame\n",
      "\n",
      "See the caveats in the documentation: https://pandas.pydata.org/pandas-docs/stable/user_guide/indexing.html#returning-a-view-versus-a-copy\n",
      "  \n"
     ]
    }
   ],
   "source": [
    "# Replace the two NaN values with the ' '\n",
    "print(df['Bean Type'][1544])\n",
    "print(df['Broad Bean Origin'][1072])\n",
    "\n",
    "df['Bean Type'][1544] = df['Bean Type'][0]\n",
    "df['Broad Bean Origin'][1072] = df['Bean Type'][0]\n",
    "\n",
    "print(df[df.isna().any(axis=1)])"
   ]
  },
  {
   "cell_type": "code",
   "execution_count": 10,
   "metadata": {},
   "outputs": [
    {
     "data": {
      "text/html": [
       "<div>\n",
       "<style scoped>\n",
       "    .dataframe tbody tr th:only-of-type {\n",
       "        vertical-align: middle;\n",
       "    }\n",
       "\n",
       "    .dataframe tbody tr th {\n",
       "        vertical-align: top;\n",
       "    }\n",
       "\n",
       "    .dataframe thead th {\n",
       "        text-align: right;\n",
       "    }\n",
       "</style>\n",
       "<table border=\"1\" class=\"dataframe\">\n",
       "  <thead>\n",
       "    <tr style=\"text-align: right;\">\n",
       "      <th></th>\n",
       "      <th>Company (Maker-if known)</th>\n",
       "      <th>Specific Bean Origin or Bar Name</th>\n",
       "      <th>REF</th>\n",
       "      <th>Review Date</th>\n",
       "      <th>Company Location</th>\n",
       "      <th>Rating</th>\n",
       "      <th>Bean Type</th>\n",
       "      <th>Broad Bean Origin</th>\n",
       "      <th>CocoaPercent</th>\n",
       "    </tr>\n",
       "  </thead>\n",
       "  <tbody>\n",
       "    <tr>\n",
       "      <th>0</th>\n",
       "      <td>A. Morin</td>\n",
       "      <td>Agua Grande</td>\n",
       "      <td>1876</td>\n",
       "      <td>2016</td>\n",
       "      <td>France</td>\n",
       "      <td>3.75</td>\n",
       "      <td></td>\n",
       "      <td>Sao Tome</td>\n",
       "      <td>0.63</td>\n",
       "    </tr>\n",
       "    <tr>\n",
       "      <th>1</th>\n",
       "      <td>A. Morin</td>\n",
       "      <td>Kpime</td>\n",
       "      <td>1676</td>\n",
       "      <td>2015</td>\n",
       "      <td>France</td>\n",
       "      <td>2.75</td>\n",
       "      <td></td>\n",
       "      <td>Togo</td>\n",
       "      <td>0.70</td>\n",
       "    </tr>\n",
       "    <tr>\n",
       "      <th>2</th>\n",
       "      <td>A. Morin</td>\n",
       "      <td>Atsane</td>\n",
       "      <td>1676</td>\n",
       "      <td>2015</td>\n",
       "      <td>France</td>\n",
       "      <td>3.00</td>\n",
       "      <td></td>\n",
       "      <td>Togo</td>\n",
       "      <td>0.70</td>\n",
       "    </tr>\n",
       "    <tr>\n",
       "      <th>3</th>\n",
       "      <td>A. Morin</td>\n",
       "      <td>Akata</td>\n",
       "      <td>1680</td>\n",
       "      <td>2015</td>\n",
       "      <td>France</td>\n",
       "      <td>3.50</td>\n",
       "      <td></td>\n",
       "      <td>Togo</td>\n",
       "      <td>0.70</td>\n",
       "    </tr>\n",
       "    <tr>\n",
       "      <th>4</th>\n",
       "      <td>A. Morin</td>\n",
       "      <td>Quilla</td>\n",
       "      <td>1704</td>\n",
       "      <td>2015</td>\n",
       "      <td>France</td>\n",
       "      <td>3.50</td>\n",
       "      <td></td>\n",
       "      <td>Peru</td>\n",
       "      <td>0.70</td>\n",
       "    </tr>\n",
       "  </tbody>\n",
       "</table>\n",
       "</div>"
      ],
      "text/plain": [
       "  Company (Maker-if known) Specific Bean Origin or Bar Name   REF  \\\n",
       "0                 A. Morin                      Agua Grande  1876   \n",
       "1                 A. Morin                            Kpime  1676   \n",
       "2                 A. Morin                           Atsane  1676   \n",
       "3                 A. Morin                            Akata  1680   \n",
       "4                 A. Morin                           Quilla  1704   \n",
       "\n",
       "   Review Date Company Location  Rating Bean Type Broad Bean Origin  \\\n",
       "0         2016           France    3.75                    Sao Tome   \n",
       "1         2015           France    2.75                        Togo   \n",
       "2         2015           France    3.00                        Togo   \n",
       "3         2015           France    3.50                        Togo   \n",
       "4         2015           France    3.50                        Peru   \n",
       "\n",
       "   CocoaPercent  \n",
       "0          0.63  \n",
       "1          0.70  \n",
       "2          0.70  \n",
       "3          0.70  \n",
       "4          0.70  "
      ]
     },
     "execution_count": 10,
     "metadata": {},
     "output_type": "execute_result"
    }
   ],
   "source": [
    "# Change Cocoa Percent from string to float\n",
    "df['CocoaPercent'] = df['Cocoa Percent'].str.strip('%').astype(float) / 100\n",
    "df = df.drop(['Cocoa Percent'], axis=1)\n",
    "df.head()"
   ]
  },
  {
   "cell_type": "code",
   "execution_count": 11,
   "metadata": {},
   "outputs": [
    {
     "data": {
      "text/plain": [
       "Rating\n",
       "1.00      4\n",
       "1.50     10\n",
       "1.75      3\n",
       "2.00     32\n",
       "2.25     14\n",
       "2.50    127\n",
       "2.75    259\n",
       "3.00    341\n",
       "3.25    303\n",
       "3.50    392\n",
       "3.75    210\n",
       "4.00     98\n",
       "5.00      2\n",
       "Name: Rating, dtype: int64"
      ]
     },
     "execution_count": 11,
     "metadata": {},
     "output_type": "execute_result"
    }
   ],
   "source": [
    "# Sum Rating to see spread of values\n",
    "dfgroup = df.groupby('Rating')\n",
    "dfgroup['Rating'].count()"
   ]
  },
  {
   "cell_type": "code",
   "execution_count": 12,
   "metadata": {},
   "outputs": [
    {
     "name": "stdout",
     "output_type": "stream",
     "text": [
      "Avoid:\n",
      "     Company (Maker-if known) Specific Bean Origin or Bar Name  REF  \\\n",
      "326                 Callebaut                           Baking  141   \n",
      "437           Claudio Corallo                         Principe  252   \n",
      "465        Cote d' Or (Kraft)               Sensations Intense   48   \n",
      "1175      Neuhaus (Callebaut)                             Dark  135   \n",
      "\n",
      "      Review Date Company Location  Rating  Bean Type    Broad Bean Origin  \\\n",
      "326          2007          Belgium     1.0                         Ecuador   \n",
      "437          2008         Sao Tome     1.0  Forastero  Sao Tome & Principe   \n",
      "465          2006          Belgium     1.0                                   \n",
      "1175         2007          Belgium     1.0                                   \n",
      "\n",
      "      CocoaPercent  \n",
      "326           0.70  \n",
      "437           1.00  \n",
      "465           0.70  \n",
      "1175          0.73  \n",
      "\n",
      "Try out:\n",
      "   Company (Maker-if known) Specific Bean Origin or Bar Name  REF  \\\n",
      "78                   Amedei                            Chuao  111   \n",
      "86                   Amedei                    Toscano Black   40   \n",
      "\n",
      "    Review Date Company Location  Rating   Bean Type Broad Bean Origin  \\\n",
      "78         2007            Italy     5.0  Trinitario         Venezuela   \n",
      "86         2006            Italy     5.0       Blend                     \n",
      "\n",
      "    CocoaPercent  \n",
      "78           0.7  \n",
      "86           0.7  \n"
     ]
    }
   ],
   "source": [
    "print('Avoid:')\n",
    "print(df[df['Rating'] == 1])\n",
    "print('\\nTry out:')\n",
    "print(df[df['Rating'] == 5])"
   ]
  },
  {
   "cell_type": "code",
   "execution_count": 13,
   "metadata": {},
   "outputs": [
    {
     "data": {
      "text/html": [
       "<div>\n",
       "<style scoped>\n",
       "    .dataframe tbody tr th:only-of-type {\n",
       "        vertical-align: middle;\n",
       "    }\n",
       "\n",
       "    .dataframe tbody tr th {\n",
       "        vertical-align: top;\n",
       "    }\n",
       "\n",
       "    .dataframe thead th {\n",
       "        text-align: right;\n",
       "    }\n",
       "</style>\n",
       "<table border=\"1\" class=\"dataframe\">\n",
       "  <thead>\n",
       "    <tr style=\"text-align: right;\">\n",
       "      <th></th>\n",
       "      <th>Company (Maker-if known)</th>\n",
       "      <th>Specific Bean Origin or Bar Name</th>\n",
       "      <th>REF</th>\n",
       "      <th>Review Date</th>\n",
       "      <th>Company Location</th>\n",
       "      <th>Rating</th>\n",
       "      <th>Bean Type</th>\n",
       "      <th>Broad Bean Origin</th>\n",
       "      <th>CocoaPercent</th>\n",
       "    </tr>\n",
       "  </thead>\n",
       "  <tbody>\n",
       "    <tr>\n",
       "      <th>0</th>\n",
       "      <td>A. Morin</td>\n",
       "      <td>Agua Grande</td>\n",
       "      <td>1876</td>\n",
       "      <td>2016</td>\n",
       "      <td>France</td>\n",
       "      <td>3.0</td>\n",
       "      <td></td>\n",
       "      <td>Sao Tome</td>\n",
       "      <td>0.63</td>\n",
       "    </tr>\n",
       "    <tr>\n",
       "      <th>1</th>\n",
       "      <td>A. Morin</td>\n",
       "      <td>Kpime</td>\n",
       "      <td>1676</td>\n",
       "      <td>2015</td>\n",
       "      <td>France</td>\n",
       "      <td>2.0</td>\n",
       "      <td></td>\n",
       "      <td>Togo</td>\n",
       "      <td>0.70</td>\n",
       "    </tr>\n",
       "    <tr>\n",
       "      <th>2</th>\n",
       "      <td>A. Morin</td>\n",
       "      <td>Atsane</td>\n",
       "      <td>1676</td>\n",
       "      <td>2015</td>\n",
       "      <td>France</td>\n",
       "      <td>3.0</td>\n",
       "      <td></td>\n",
       "      <td>Togo</td>\n",
       "      <td>0.70</td>\n",
       "    </tr>\n",
       "    <tr>\n",
       "      <th>3</th>\n",
       "      <td>A. Morin</td>\n",
       "      <td>Akata</td>\n",
       "      <td>1680</td>\n",
       "      <td>2015</td>\n",
       "      <td>France</td>\n",
       "      <td>3.0</td>\n",
       "      <td></td>\n",
       "      <td>Togo</td>\n",
       "      <td>0.70</td>\n",
       "    </tr>\n",
       "    <tr>\n",
       "      <th>4</th>\n",
       "      <td>A. Morin</td>\n",
       "      <td>Quilla</td>\n",
       "      <td>1704</td>\n",
       "      <td>2015</td>\n",
       "      <td>France</td>\n",
       "      <td>3.0</td>\n",
       "      <td></td>\n",
       "      <td>Peru</td>\n",
       "      <td>0.70</td>\n",
       "    </tr>\n",
       "  </tbody>\n",
       "</table>\n",
       "</div>"
      ],
      "text/plain": [
       "  Company (Maker-if known) Specific Bean Origin or Bar Name   REF  \\\n",
       "0                 A. Morin                      Agua Grande  1876   \n",
       "1                 A. Morin                            Kpime  1676   \n",
       "2                 A. Morin                           Atsane  1676   \n",
       "3                 A. Morin                            Akata  1680   \n",
       "4                 A. Morin                           Quilla  1704   \n",
       "\n",
       "   Review Date Company Location  Rating Bean Type Broad Bean Origin  \\\n",
       "0         2016           France     3.0                    Sao Tome   \n",
       "1         2015           France     2.0                        Togo   \n",
       "2         2015           France     3.0                        Togo   \n",
       "3         2015           France     3.0                        Togo   \n",
       "4         2015           France     3.0                        Peru   \n",
       "\n",
       "   CocoaPercent  \n",
       "0          0.63  \n",
       "1          0.70  \n",
       "2          0.70  \n",
       "3          0.70  \n",
       "4          0.70  "
      ]
     },
     "execution_count": 13,
     "metadata": {},
     "output_type": "execute_result"
    }
   ],
   "source": [
    "# Save original ratings for later tests\n",
    "orig_rating = df['Rating']\n",
    "\n",
    "# Truncate ratings so they are just 1 - 5\n",
    "df['Rating'] = df['Rating'].apply(np.floor)\n",
    "\n",
    "df.head()"
   ]
  },
  {
   "cell_type": "code",
   "execution_count": 14,
   "metadata": {},
   "outputs": [
    {
     "data": {
      "text/plain": [
       "array([[<matplotlib.axes._subplots.AxesSubplot object at 0x000001E07FEA59C8>,\n",
       "        <matplotlib.axes._subplots.AxesSubplot object at 0x000001E00065EEC8>,\n",
       "        <matplotlib.axes._subplots.AxesSubplot object at 0x000001E0006933C8>,\n",
       "        <matplotlib.axes._subplots.AxesSubplot object at 0x000001E0006CB4C8>],\n",
       "       [<matplotlib.axes._subplots.AxesSubplot object at 0x000001E0007035C8>,\n",
       "        <matplotlib.axes._subplots.AxesSubplot object at 0x000001E00073B708>,\n",
       "        <matplotlib.axes._subplots.AxesSubplot object at 0x000001E000772808>,\n",
       "        <matplotlib.axes._subplots.AxesSubplot object at 0x000001E0007AA748>],\n",
       "       [<matplotlib.axes._subplots.AxesSubplot object at 0x000001E0007B6348>,\n",
       "        <matplotlib.axes._subplots.AxesSubplot object at 0x000001E0007F0548>,\n",
       "        <matplotlib.axes._subplots.AxesSubplot object at 0x000001E000856A88>,\n",
       "        <matplotlib.axes._subplots.AxesSubplot object at 0x000001E00088DBC8>],\n",
       "       [<matplotlib.axes._subplots.AxesSubplot object at 0x000001E0008C6C48>,\n",
       "        <matplotlib.axes._subplots.AxesSubplot object at 0x000001E0008FEC88>,\n",
       "        <matplotlib.axes._subplots.AxesSubplot object at 0x000001E000934DC8>,\n",
       "        <matplotlib.axes._subplots.AxesSubplot object at 0x000001E00096DF08>]],\n",
       "      dtype=object)"
      ]
     },
     "execution_count": 14,
     "metadata": {},
     "output_type": "execute_result"
    },
    {
     "data": {
      "image/png": "[encoded data removed]",
      "text/plain": [
       "<Figure size 432x288 with 16 Axes>"
      ]
     },
     "metadata": {
      "needs_background": "light"
     },
     "output_type": "display_data"
    }
   ],
   "source": [
    "# Scatter plot matrix\n",
    "pd.plotting.scatter_matrix(df)"
   ]
  },
  {
   "cell_type": "code",
   "execution_count": 15,
   "metadata": {
    "scrolled": false
   },
   "outputs": [
    {
     "data": {
      "text/plain": [
       "<matplotlib.axes._subplots.AxesSubplot at 0x1e000b4f488>"
      ]
     },
     "execution_count": 15,
     "metadata": {},
     "output_type": "execute_result"
    },
    {
     "data": {
      "image/png": "[encoded data removed]",
      "text/plain": [
       "<Figure size 432x288 with 1 Axes>"
      ]
     },
     "metadata": {
      "needs_background": "light"
     },
     "output_type": "display_data"
    }
   ],
   "source": [
    "df['Company (Maker-if known)'].value_counts().plot(kind='bar')"
   ]
  },
  {
   "cell_type": "code",
   "execution_count": 16,
   "metadata": {},
   "outputs": [
    {
     "name": "stdout",
     "output_type": "stream",
     "text": [
      "Number of unique values\n",
      "Company (Maker-if known): 416\n",
      "Specific Bean Origin or Bar Name: 1039\n",
      "Company Location: 60\n",
      "Bean Type: 41\n",
      "Broad Bean Origin: 100\n"
     ]
    }
   ],
   "source": [
    "# Number of unique values in the categorical features\n",
    "print('Number of unique values')\n",
    "print('Company (Maker-if known):', len(pd.unique(df['Company (Maker-if known)'])))\n",
    "print('Specific Bean Origin or Bar Name:', len(pd.unique(df['Specific Bean Origin or Bar Name'])))\n",
    "print('Company Location:', len(pd.unique(df['Company Location'])))\n",
    "print('Bean Type:', len(pd.unique(df['Bean Type'])))\n",
    "print('Broad Bean Origin:', len(pd.unique(df['Broad Bean Origin'])))"
   ]
  },
  {
   "cell_type": "code",
   "execution_count": 17,
   "metadata": {},
   "outputs": [],
   "source": [
    "# Create arrays for the results of each test\n",
    "results_t1 = []\n",
    "results_t2 = []\n",
    "results_t3 = []\n",
    "results_t4 = []"
   ]
  },
  {
   "cell_type": "markdown",
   "metadata": {},
   "source": [
    "## 2. Do tests\n",
    "### One-hot encode ALL categorical features (Test 1)"
   ]
  },
  {
   "cell_type": "code",
   "execution_count": 18,
   "metadata": {},
   "outputs": [
    {
     "data": {
      "text/html": [
       "<div>\n",
       "<style scoped>\n",
       "    .dataframe tbody tr th:only-of-type {\n",
       "        vertical-align: middle;\n",
       "    }\n",
       "\n",
       "    .dataframe tbody tr th {\n",
       "        vertical-align: top;\n",
       "    }\n",
       "\n",
       "    .dataframe thead th {\n",
       "        text-align: right;\n",
       "    }\n",
       "</style>\n",
       "<table border=\"1\" class=\"dataframe\">\n",
       "  <thead>\n",
       "    <tr style=\"text-align: right;\">\n",
       "      <th></th>\n",
       "      <th>REF</th>\n",
       "      <th>Review Date</th>\n",
       "      <th>Rating</th>\n",
       "      <th>CocoaPercent</th>\n",
       "      <th>A. Morin</th>\n",
       "      <th>Acalli</th>\n",
       "      <th>Adi</th>\n",
       "      <th>Aequare (Gianduja)</th>\n",
       "      <th>Ah Cacao</th>\n",
       "      <th>Akesson's (Pralus)</th>\n",
       "      <th>...</th>\n",
       "      <th>Guat., D.R., Peru, Mad., PNG</th>\n",
       "      <th>Peru, Dom. Rep</th>\n",
       "      <th>Dom. Rep., Madagascar</th>\n",
       "      <th>Gre., PNG, Haw., Haiti, Mad</th>\n",
       "      <th>Mad., Java, PNG</th>\n",
       "      <th>Ven, Bolivia, D.R.</th>\n",
       "      <th>DR, Ecuador, Peru</th>\n",
       "      <th>Peru, Ecuador</th>\n",
       "      <th>Ecuador, Mad., PNG</th>\n",
       "      <th>Venezuela, Carribean</th>\n",
       "    </tr>\n",
       "  </thead>\n",
       "  <tbody>\n",
       "    <tr>\n",
       "      <th>0</th>\n",
       "      <td>1876</td>\n",
       "      <td>2016</td>\n",
       "      <td>3.0</td>\n",
       "      <td>0.63</td>\n",
       "      <td>1</td>\n",
       "      <td>0</td>\n",
       "      <td>0</td>\n",
       "      <td>0</td>\n",
       "      <td>0</td>\n",
       "      <td>0</td>\n",
       "      <td>...</td>\n",
       "      <td>0</td>\n",
       "      <td>0</td>\n",
       "      <td>0</td>\n",
       "      <td>0</td>\n",
       "      <td>0</td>\n",
       "      <td>0</td>\n",
       "      <td>0</td>\n",
       "      <td>0</td>\n",
       "      <td>0</td>\n",
       "      <td>0</td>\n",
       "    </tr>\n",
       "    <tr>\n",
       "      <th>1</th>\n",
       "      <td>1676</td>\n",
       "      <td>2015</td>\n",
       "      <td>2.0</td>\n",
       "      <td>0.70</td>\n",
       "      <td>1</td>\n",
       "      <td>0</td>\n",
       "      <td>0</td>\n",
       "      <td>0</td>\n",
       "      <td>0</td>\n",
       "      <td>0</td>\n",
       "      <td>...</td>\n",
       "      <td>0</td>\n",
       "      <td>0</td>\n",
       "      <td>0</td>\n",
       "      <td>0</td>\n",
       "      <td>0</td>\n",
       "      <td>0</td>\n",
       "      <td>0</td>\n",
       "      <td>0</td>\n",
       "      <td>0</td>\n",
       "      <td>0</td>\n",
       "    </tr>\n",
       "    <tr>\n",
       "      <th>2</th>\n",
       "      <td>1676</td>\n",
       "      <td>2015</td>\n",
       "      <td>3.0</td>\n",
       "      <td>0.70</td>\n",
       "      <td>1</td>\n",
       "      <td>0</td>\n",
       "      <td>0</td>\n",
       "      <td>0</td>\n",
       "      <td>0</td>\n",
       "      <td>0</td>\n",
       "      <td>...</td>\n",
       "      <td>0</td>\n",
       "      <td>0</td>\n",
       "      <td>0</td>\n",
       "      <td>0</td>\n",
       "      <td>0</td>\n",
       "      <td>0</td>\n",
       "      <td>0</td>\n",
       "      <td>0</td>\n",
       "      <td>0</td>\n",
       "      <td>0</td>\n",
       "    </tr>\n",
       "    <tr>\n",
       "      <th>3</th>\n",
       "      <td>1680</td>\n",
       "      <td>2015</td>\n",
       "      <td>3.0</td>\n",
       "      <td>0.70</td>\n",
       "      <td>1</td>\n",
       "      <td>0</td>\n",
       "      <td>0</td>\n",
       "      <td>0</td>\n",
       "      <td>0</td>\n",
       "      <td>0</td>\n",
       "      <td>...</td>\n",
       "      <td>0</td>\n",
       "      <td>0</td>\n",
       "      <td>0</td>\n",
       "      <td>0</td>\n",
       "      <td>0</td>\n",
       "      <td>0</td>\n",
       "      <td>0</td>\n",
       "      <td>0</td>\n",
       "      <td>0</td>\n",
       "      <td>0</td>\n",
       "    </tr>\n",
       "    <tr>\n",
       "      <th>4</th>\n",
       "      <td>1704</td>\n",
       "      <td>2015</td>\n",
       "      <td>3.0</td>\n",
       "      <td>0.70</td>\n",
       "      <td>1</td>\n",
       "      <td>0</td>\n",
       "      <td>0</td>\n",
       "      <td>0</td>\n",
       "      <td>0</td>\n",
       "      <td>0</td>\n",
       "      <td>...</td>\n",
       "      <td>0</td>\n",
       "      <td>0</td>\n",
       "      <td>0</td>\n",
       "      <td>0</td>\n",
       "      <td>0</td>\n",
       "      <td>0</td>\n",
       "      <td>0</td>\n",
       "      <td>0</td>\n",
       "      <td>0</td>\n",
       "      <td>0</td>\n",
       "    </tr>\n",
       "  </tbody>\n",
       "</table>\n",
       "<p>5 rows × 1579 columns</p>\n",
       "</div>"
      ],
      "text/plain": [
       "    REF  Review Date  Rating  CocoaPercent  A. Morin  Acalli  Adi  \\\n",
       "0  1876         2016     3.0          0.63         1       0    0   \n",
       "1  1676         2015     2.0          0.70         1       0    0   \n",
       "2  1676         2015     3.0          0.70         1       0    0   \n",
       "3  1680         2015     3.0          0.70         1       0    0   \n",
       "4  1704         2015     3.0          0.70         1       0    0   \n",
       "\n",
       "   Aequare (Gianduja)  Ah Cacao  Akesson's (Pralus)  ...  \\\n",
       "0                   0         0                   0  ...   \n",
       "1                   0         0                   0  ...   \n",
       "2                   0         0                   0  ...   \n",
       "3                   0         0                   0  ...   \n",
       "4                   0         0                   0  ...   \n",
       "\n",
       "   Guat., D.R., Peru, Mad., PNG  Peru, Dom. Rep  Dom. Rep., Madagascar  \\\n",
       "0                             0               0                      0   \n",
       "1                             0               0                      0   \n",
       "2                             0               0                      0   \n",
       "3                             0               0                      0   \n",
       "4                             0               0                      0   \n",
       "\n",
       "   Gre., PNG, Haw., Haiti, Mad  Mad., Java, PNG  Ven, Bolivia, D.R.  \\\n",
       "0                            0                0                   0   \n",
       "1                            0                0                   0   \n",
       "2                            0                0                   0   \n",
       "3                            0                0                   0   \n",
       "4                            0                0                   0   \n",
       "\n",
       "   DR, Ecuador, Peru  Peru, Ecuador  Ecuador, Mad., PNG  Venezuela, Carribean  \n",
       "0                  0              0                   0                     0  \n",
       "1                  0              0                   0                     0  \n",
       "2                  0              0                   0                     0  \n",
       "3                  0              0                   0                     0  \n",
       "4                  0              0                   0                     0  \n",
       "\n",
       "[5 rows x 1579 columns]"
      ]
     },
     "execution_count": 18,
     "metadata": {},
     "output_type": "execute_result"
    }
   ],
   "source": [
    "# One-hot encode ALL categorical features\n",
    "def oneHot(category, hot):\n",
    "    if category == hot:\n",
    "        return 1\n",
    "    else:\n",
    "        return 0\n",
    "\n",
    "df_hot = df.copy()\n",
    "\n",
    "#Company\n",
    "for val in df_hot['Company (Maker-if known)'].unique():\n",
    "    df_hot[val] = df_hot['Company (Maker-if known)'].apply(oneHot, hot=val)\n",
    "df_hot = df_hot.drop(['Company (Maker-if known)'], axis=1)\n",
    "\n",
    "# Specific Bean Origin\n",
    "for val in df_hot['Specific Bean Origin or Bar Name'].unique():\n",
    "    df_hot[val] = df_hot['Specific Bean Origin or Bar Name'].apply(oneHot, hot=val)\n",
    "df_hot = df_hot.drop(['Specific Bean Origin or Bar Name'], axis=1)\n",
    "\n",
    "# Company Location\n",
    "for val in df_hot['Company Location'].unique():\n",
    "    df_hot[val] = df_hot['Company Location'].apply(oneHot, hot=val)\n",
    "df_hot = df_hot.drop(['Company Location'], axis=1)\n",
    "\n",
    "# Bean Type\n",
    "for val in df_hot['Bean Type'].unique():\n",
    "    df_hot[val] = df_hot['Bean Type'].apply(oneHot, hot=val)\n",
    "df_hot = df_hot.drop(['Bean Type'], axis=1)\n",
    "\n",
    "# Broad Bean Origin\n",
    "for val in df_hot['Broad Bean Origin'].unique():\n",
    "    df_hot[val] = df_hot['Broad Bean Origin'].apply(oneHot, hot=val)\n",
    "df_hot = df_hot.drop(['Broad Bean Origin'], axis=1)\n",
    "\n",
    "df_hot.head()"
   ]
  },
  {
   "cell_type": "code",
   "execution_count": 19,
   "metadata": {
    "scrolled": true
   },
   "outputs": [
    {
     "name": "stdout",
     "output_type": "stream",
     "text": [
      "<class 'pandas.core.frame.DataFrame'>\n",
      "RangeIndex: 1795 entries, 0 to 1794\n",
      "Columns: 1579 entries, REF to Venezuela, Carribean\n",
      "dtypes: float64(2), int64(1577)\n",
      "memory usage: 21.6 MB\n",
      "Index(['REF', 'Review Date', 'Rating', 'CocoaPercent', 'A. Morin', 'Acalli',\n",
      "       'Adi', 'Aequare (Gianduja)', 'Ah Cacao', 'Akesson's (Pralus)',\n",
      "       ...\n",
      "       'Guat., D.R., Peru, Mad., PNG', 'Peru, Dom. Rep',\n",
      "       'Dom. Rep., Madagascar', 'Gre., PNG, Haw., Haiti, Mad',\n",
      "       'Mad., Java, PNG', 'Ven, Bolivia, D.R.', 'DR, Ecuador, Peru',\n",
      "       'Peru, Ecuador', 'Ecuador, Mad., PNG', 'Venezuela, Carribean'],\n",
      "      dtype='object', length=1579)\n"
     ]
    }
   ],
   "source": [
    "df_hot.info()\n",
    "print(df_hot.columns)\n",
    "df_hot = df_hot.drop([' '], axis=1)"
   ]
  },
  {
   "cell_type": "code",
   "execution_count": 20,
   "metadata": {},
   "outputs": [],
   "source": [
    "# Split train and test data\n",
    "y = df_hot['Rating']\n",
    "X = df_hot.drop(columns=['Rating'])\n",
    "X_train, X_test, y_train, y_test = train_test_split(X, y, test_size=0.2, random_state=1)"
   ]
  },
  {
   "cell_type": "code",
   "execution_count": 21,
   "metadata": {
    "scrolled": true
   },
   "outputs": [
    {
     "name": "stdout",
     "output_type": "stream",
     "text": [
      "Accuracy: 0.6908077994428969\n"
     ]
    }
   ],
   "source": [
    "# Decision tree for one hot\n",
    "tree_clf = DecisionTreeClassifier(max_depth=5)\n",
    "tree_clf.fit(X_train,y_train)\n",
    "\n",
    "y_pred_hot_tree = tree_clf.predict(X_test)\n",
    "\n",
    "results_t1.append(accuracy_score(y_test, y_pred_hot_tree))\n",
    "print('Accuracy:', accuracy_score(y_test, y_pred_hot_tree))"
   ]
  },
  {
   "cell_type": "code",
   "execution_count": 22,
   "metadata": {},
   "outputs": [
    {
     "name": "stdout",
     "output_type": "stream",
     "text": [
      "Accuracy: 0.6740947075208914\n"
     ]
    }
   ],
   "source": [
    "# kNN for one hot\n",
    "knn_clf = KNeighborsClassifier(n_neighbors=7)\n",
    "knn_clf.fit(X_train, y_train)\n",
    "\n",
    "y_pred_hot_knn = knn_clf.predict(X_test)\n",
    "\n",
    "results_t1.append(accuracy_score(y_test, y_pred_hot_knn))\n",
    "print('Accuracy:', accuracy_score(y_test, y_pred_hot_knn))"
   ]
  },
  {
   "cell_type": "code",
   "execution_count": 23,
   "metadata": {},
   "outputs": [
    {
     "name": "stdout",
     "output_type": "stream",
     "text": [
      "Accuracy: 0.7103064066852368\n"
     ]
    }
   ],
   "source": [
    "# Logistic regression for one hot\n",
    "log_clf = LogisticRegression(random_state=0,max_iter=100,solver='liblinear')\n",
    "log_clf.fit(X_train, y_train)\n",
    "\n",
    "y_pred_hot_log = log_clf.predict(X_test)\n",
    "\n",
    "results_t1.append(accuracy_score(y_test, y_pred_hot_log))\n",
    "print('Accuracy:', accuracy_score(y_test, y_pred_hot_log))"
   ]
  },
  {
   "cell_type": "code",
   "execution_count": 24,
   "metadata": {},
   "outputs": [
    {
     "name": "stdout",
     "output_type": "stream",
     "text": [
      "Accuracy: 0.6935933147632312\n"
     ]
    }
   ],
   "source": [
    "# SVM for one hot\n",
    "svm_clf = make_pipeline(StandardScaler(), SVC(gamma='auto'))\n",
    "svm_clf.fit(X_train, y_train)\n",
    "\n",
    "y_pred_hot_svm = svm_clf.predict(X_test)\n",
    "\n",
    "results_t1.append(accuracy_score(y_test, y_pred_hot_svm))\n",
    "print('Accuracy:', accuracy_score(y_test, y_pred_hot_svm))"
   ]
  },
  {
   "cell_type": "code",
   "execution_count": 25,
   "metadata": {},
   "outputs": [
    {
     "name": "stdout",
     "output_type": "stream",
     "text": [
      "Accuracy: 0.7075208913649025\n"
     ]
    }
   ],
   "source": [
    "# Random Forest for one hot\n",
    "rnd_clf = RandomForestClassifier(n_estimators=100,max_leaf_nodes=15,n_jobs=-1)\n",
    "rnd_clf.fit(X_train, y_train)\n",
    "\n",
    "y_pred_hot_rnd = rnd_clf.predict(X_test)\n",
    "\n",
    "results_t1.append(accuracy_score(y_test, y_pred_hot_rnd))\n",
    "print('Accuracy:', accuracy_score(y_test, y_pred_hot_rnd))"
   ]
  },
  {
   "cell_type": "code",
   "execution_count": 26,
   "metadata": {},
   "outputs": [
    {
     "name": "stdout",
     "output_type": "stream",
     "text": [
      "Accuracy: 0.7047353760445683\n"
     ]
    }
   ],
   "source": [
    "# Voting Classifier for one hot\n",
    "voting_clf = VotingClassifier(\n",
    "    estimators=[('lr', log_clf), ('rf', rnd_clf), ('svc', svm_clf)],\n",
    "    voting='hard')\n",
    "voting_clf.fit(X_train, y_train)\n",
    "\n",
    "y_pred_hot_vote = voting_clf.predict(X_test)\n",
    "\n",
    "results_t1.append(accuracy_score(y_test, y_pred_hot_vote))\n",
    "print('Accuracy:', accuracy_score(y_test, y_pred_hot_vote))"
   ]
  },
  {
   "cell_type": "markdown",
   "metadata": {},
   "source": [
    "### Ordinal encoding (Test 2)"
   ]
  },
  {
   "cell_type": "code",
   "execution_count": 27,
   "metadata": {},
   "outputs": [
    {
     "data": {
      "text/html": [
       "<div>\n",
       "<style scoped>\n",
       "    .dataframe tbody tr th:only-of-type {\n",
       "        vertical-align: middle;\n",
       "    }\n",
       "\n",
       "    .dataframe tbody tr th {\n",
       "        vertical-align: top;\n",
       "    }\n",
       "\n",
       "    .dataframe thead th {\n",
       "        text-align: right;\n",
       "    }\n",
       "</style>\n",
       "<table border=\"1\" class=\"dataframe\">\n",
       "  <thead>\n",
       "    <tr style=\"text-align: right;\">\n",
       "      <th></th>\n",
       "      <th>REF</th>\n",
       "      <th>Review Date</th>\n",
       "      <th>Rating</th>\n",
       "      <th>CocoaPercent</th>\n",
       "      <th>Company_ord</th>\n",
       "      <th>Specific_Bean_Origin_or_Bar_Name_ord</th>\n",
       "      <th>Company_Location_ord</th>\n",
       "      <th>Bean_Type_ord</th>\n",
       "      <th>Broad_Bean_Origin_ord</th>\n",
       "    </tr>\n",
       "  </thead>\n",
       "  <tbody>\n",
       "    <tr>\n",
       "      <th>0</th>\n",
       "      <td>1876</td>\n",
       "      <td>2016</td>\n",
       "      <td>3.0</td>\n",
       "      <td>0.63</td>\n",
       "      <td>0</td>\n",
       "      <td>14</td>\n",
       "      <td>18</td>\n",
       "      <td>40</td>\n",
       "      <td>67</td>\n",
       "    </tr>\n",
       "    <tr>\n",
       "      <th>1</th>\n",
       "      <td>1676</td>\n",
       "      <td>2015</td>\n",
       "      <td>2.0</td>\n",
       "      <td>0.70</td>\n",
       "      <td>0</td>\n",
       "      <td>492</td>\n",
       "      <td>18</td>\n",
       "      <td>40</td>\n",
       "      <td>77</td>\n",
       "    </tr>\n",
       "    <tr>\n",
       "      <th>2</th>\n",
       "      <td>1676</td>\n",
       "      <td>2015</td>\n",
       "      <td>3.0</td>\n",
       "      <td>0.70</td>\n",
       "      <td>0</td>\n",
       "      <td>67</td>\n",
       "      <td>18</td>\n",
       "      <td>40</td>\n",
       "      <td>77</td>\n",
       "    </tr>\n",
       "    <tr>\n",
       "      <th>3</th>\n",
       "      <td>1680</td>\n",
       "      <td>2015</td>\n",
       "      <td>3.0</td>\n",
       "      <td>0.70</td>\n",
       "      <td>0</td>\n",
       "      <td>15</td>\n",
       "      <td>18</td>\n",
       "      <td>40</td>\n",
       "      <td>77</td>\n",
       "    </tr>\n",
       "    <tr>\n",
       "      <th>4</th>\n",
       "      <td>1704</td>\n",
       "      <td>2015</td>\n",
       "      <td>3.0</td>\n",
       "      <td>0.70</td>\n",
       "      <td>0</td>\n",
       "      <td>809</td>\n",
       "      <td>18</td>\n",
       "      <td>40</td>\n",
       "      <td>55</td>\n",
       "    </tr>\n",
       "  </tbody>\n",
       "</table>\n",
       "</div>"
      ],
      "text/plain": [
       "    REF  Review Date  Rating  CocoaPercent  Company_ord  \\\n",
       "0  1876         2016     3.0          0.63            0   \n",
       "1  1676         2015     2.0          0.70            0   \n",
       "2  1676         2015     3.0          0.70            0   \n",
       "3  1680         2015     3.0          0.70            0   \n",
       "4  1704         2015     3.0          0.70            0   \n",
       "\n",
       "   Specific_Bean_Origin_or_Bar_Name_ord  Company_Location_ord  Bean_Type_ord  \\\n",
       "0                                    14                    18             40   \n",
       "1                                   492                    18             40   \n",
       "2                                    67                    18             40   \n",
       "3                                    15                    18             40   \n",
       "4                                   809                    18             40   \n",
       "\n",
       "   Broad_Bean_Origin_ord  \n",
       "0                     67  \n",
       "1                     77  \n",
       "2                     77  \n",
       "3                     77  \n",
       "4                     55  "
      ]
     },
     "execution_count": 27,
     "metadata": {},
     "output_type": "execute_result"
    }
   ],
   "source": [
    "#0   Company (Maker-if known)          1795 non-null   object \n",
    "# 1   Specific Bean Origin or Bar Name  1795 non-null   object \n",
    "# 2   REF                               1795 non-null   int64  \n",
    "# 3   Review Date                       1795 non-null   int64  \n",
    "# 4   Cocoa Percent                     1795 non-null   object \n",
    "# 5   Company Location                  1795 non-null   object \n",
    "# 6   Rating                            1795 non-null   float64\n",
    "# 7   Bean Type                         1794 non-null   object \n",
    "# 8   Broad Bean Origin                 1794 non-null   object\n",
    "\n",
    "# Ordinal encode all categorical values\n",
    "df_ord = df.copy()\n",
    "# Company\n",
    "df_ord[\"Company_ord\"] = df_ord[\"Company (Maker-if known)\"].astype('category')\n",
    "df_ord[\"Company_ord\"] = df_ord[\"Company_ord\"].cat.codes\n",
    "df_ord = df_ord.drop(['Company (Maker-if known)'], axis=1)\n",
    "\n",
    "# Specific Bean Origin\n",
    "df_ord[\"Specific_Bean_Origin_or_Bar_Name_ord\"] = df_ord[\"Specific Bean Origin or Bar Name\"].astype('category')\n",
    "df_ord[\"Specific_Bean_Origin_or_Bar_Name_ord\"] = df_ord[\"Specific_Bean_Origin_or_Bar_Name_ord\"].cat.codes\n",
    "df_ord = df_ord.drop(['Specific Bean Origin or Bar Name'], axis=1)\n",
    "\n",
    "# Company Location\n",
    "df_ord[\"Company_Location_ord\"] = df_ord[\"Company Location\"].astype('category')\n",
    "df_ord[\"Company_Location_ord\"] = df_ord[\"Company_Location_ord\"].cat.codes\n",
    "df_ord = df_ord.drop(['Company Location'], axis=1)\n",
    "\n",
    "# Bean Type\n",
    "df_ord[\"Bean_Type_ord\"] = df_ord[\"Bean Type\"].astype('category')\n",
    "df_ord[\"Bean_Type_ord\"] = df_ord[\"Bean_Type_ord\"].cat.codes\n",
    "df_ord = df_ord.drop(['Bean Type'], axis=1)\n",
    "\n",
    "# Broad Bean Origin\n",
    "df_ord[\"Broad_Bean_Origin_ord\"] = df_ord[\"Broad Bean Origin\"].astype('category')\n",
    "df_ord[\"Broad_Bean_Origin_ord\"] = df_ord[\"Broad_Bean_Origin_ord\"].cat.codes\n",
    "df_ord = df_ord.drop(['Broad Bean Origin'], axis=1)\n",
    "\n",
    "df_ord.head()"
   ]
  },
  {
   "cell_type": "code",
   "execution_count": 28,
   "metadata": {},
   "outputs": [],
   "source": [
    "# Split train and test data\n",
    "#from sklearn.model_selection import train_test_split\n",
    "y = df_ord['Rating']\n",
    "X = df_ord.drop(columns=['Rating'])\n",
    "X_train, X_test, y_train, y_test = train_test_split(X, y, test_size=0.2, random_state=1)"
   ]
  },
  {
   "cell_type": "code",
   "execution_count": 29,
   "metadata": {},
   "outputs": [
    {
     "name": "stdout",
     "output_type": "stream",
     "text": [
      "Accuracy: 0.7075208913649025\n"
     ]
    }
   ],
   "source": [
    "# Decision tree for ordinal\n",
    "tree_clf = DecisionTreeClassifier(max_depth=1)\n",
    "tree_clf.fit(X_train,y_train)\n",
    "\n",
    "y_pred_ord_tree = tree_clf.predict(X_test)\n",
    "\n",
    "results_t2.append(accuracy_score(y_test, y_pred_ord_tree))\n",
    "print('Accuracy:', accuracy_score(y_test, y_pred_ord_tree))"
   ]
  },
  {
   "cell_type": "code",
   "execution_count": 30,
   "metadata": {},
   "outputs": [
    {
     "name": "stdout",
     "output_type": "stream",
     "text": [
      "Accuracy: 0.6545961002785515\n"
     ]
    }
   ],
   "source": [
    "# kNN for ordinal\n",
    "knn_clf = KNeighborsClassifier(n_neighbors=7)\n",
    "knn_clf.fit(X_train, y_train)\n",
    "\n",
    "y_pred_ord_knn = knn_clf.predict(X_test)\n",
    "\n",
    "results_t2.append(accuracy_score(y_test, y_pred_ord_knn))\n",
    "print('Accuracy:', accuracy_score(y_test, y_pred_ord_knn))"
   ]
  },
  {
   "cell_type": "code",
   "execution_count": 31,
   "metadata": {},
   "outputs": [
    {
     "name": "stdout",
     "output_type": "stream",
     "text": [
      "Accuracy: 0.7075208913649025\n"
     ]
    }
   ],
   "source": [
    "# Logistical regression for ordinal\n",
    "log_clf = LogisticRegression(random_state=0,max_iter=50,solver='liblinear')\n",
    "log_clf.fit(X_train, y_train)\n",
    "\n",
    "y_pred_ord_log = log_clf.predict(X_test)\n",
    "\n",
    "results_t2.append(accuracy_score(y_test, y_pred_ord_log))\n",
    "print('Accuracy:', accuracy_score(y_test, y_pred_ord_log))"
   ]
  },
  {
   "cell_type": "code",
   "execution_count": 32,
   "metadata": {},
   "outputs": [
    {
     "name": "stdout",
     "output_type": "stream",
     "text": [
      "Accuracy: 0.7075208913649025\n"
     ]
    }
   ],
   "source": [
    "# SVM for ordinal\n",
    "svm_clf = make_pipeline(StandardScaler(), SVC(gamma='auto'))\n",
    "svm_clf.fit(X_train, y_train)\n",
    "\n",
    "y_pred_ord_svm = svm_clf.predict(X_test)\n",
    "\n",
    "results_t2.append(accuracy_score(y_test, y_pred_ord_svm))\n",
    "print('Accuracy:', accuracy_score(y_test, y_pred_ord_svm))"
   ]
  },
  {
   "cell_type": "code",
   "execution_count": 33,
   "metadata": {},
   "outputs": [
    {
     "name": "stdout",
     "output_type": "stream",
     "text": [
      "Accuracy: 0.7075208913649025\n"
     ]
    }
   ],
   "source": [
    "# Random Forest for ordinal\n",
    "rnd_clf = RandomForestClassifier(n_estimators=100,max_leaf_nodes=2,n_jobs=-1)\n",
    "rnd_clf.fit(X_train, y_train)\n",
    "\n",
    "y_pred_ord_rnd = rnd_clf.predict(X_test)\n",
    "\n",
    "results_t2.append(accuracy_score(y_test, y_pred_ord_rnd))\n",
    "print('Accuracy:', accuracy_score(y_test, y_pred_ord_rnd))"
   ]
  },
  {
   "cell_type": "code",
   "execution_count": 34,
   "metadata": {},
   "outputs": [
    {
     "name": "stdout",
     "output_type": "stream",
     "text": [
      "Accuracy: 0.7075208913649025\n"
     ]
    }
   ],
   "source": [
    "# Voting Classifier for ordinal\n",
    "voting_clf = VotingClassifier(\n",
    "    estimators=[('lr', log_clf), ('rf', rnd_clf), ('svc', svm_clf)],\n",
    "    voting='hard')\n",
    "voting_clf.fit(X_train, y_train)\n",
    "\n",
    "y_pred_ord_vote = voting_clf.predict(X_test)\n",
    "\n",
    "results_t2.append(accuracy_score(y_test, y_pred_ord_vote))\n",
    "print('Accuracy:', accuracy_score(y_test, y_pred_ord_vote))"
   ]
  },
  {
   "cell_type": "markdown",
   "metadata": {},
   "source": [
    "### Change Rating"
   ]
  },
  {
   "cell_type": "code",
   "execution_count": 35,
   "metadata": {},
   "outputs": [
    {
     "data": {
      "text/plain": [
       "0       9\n",
       "1       5\n",
       "2       9\n",
       "3       9\n",
       "4       9\n",
       "       ..\n",
       "1790    9\n",
       "1791    9\n",
       "1792    9\n",
       "1793    9\n",
       "1794    9\n",
       "Name: Rating, Length: 1795, dtype: int64"
      ]
     },
     "execution_count": 35,
     "metadata": {},
     "output_type": "execute_result"
    }
   ],
   "source": [
    "# Map Rating from 0, 0.25, 0.5,..., 5.5, 5.75 to 1-20\n",
    "df['Rating'] = orig_rating\n",
    "\n",
    "mapping = {1.0 : 1, 1.25 : 2, 1.5 : 3, 1.75 : 4, 2.0 : 5, 2.25 : 6, 2.5 : 7, 2.75 : 8, 3.0 : 9, 3.25 : 10, 3.5 : 11,\n",
    "          3.75 : 12, 4.0 : 13, 4.25 : 14, 4.5 : 15, 4.75 : 16, 5.0 : 17, 5.25 : 18, 5.5 : 19, 5.75 : 20}\n",
    "df['Rating'] = [mapping[x] for x in df['Rating']] #.applymap(lambda x : mapping[x])\n",
    "df['Rating']"
   ]
  },
  {
   "cell_type": "markdown",
   "metadata": {},
   "source": [
    "#### Expectations:\n",
    "Because this creates many more categories for the models to classify, I expect that the accuracy for tests 3 and 4 to be, in general, lower than that of tests 1 and 2."
   ]
  },
  {
   "cell_type": "markdown",
   "metadata": {},
   "source": [
    "### One Hot with mapped Rating (Test 3)"
   ]
  },
  {
   "cell_type": "code",
   "execution_count": 36,
   "metadata": {
    "scrolled": true
   },
   "outputs": [
    {
     "data": {
      "text/html": [
       "<div>\n",
       "<style scoped>\n",
       "    .dataframe tbody tr th:only-of-type {\n",
       "        vertical-align: middle;\n",
       "    }\n",
       "\n",
       "    .dataframe tbody tr th {\n",
       "        vertical-align: top;\n",
       "    }\n",
       "\n",
       "    .dataframe thead th {\n",
       "        text-align: right;\n",
       "    }\n",
       "</style>\n",
       "<table border=\"1\" class=\"dataframe\">\n",
       "  <thead>\n",
       "    <tr style=\"text-align: right;\">\n",
       "      <th></th>\n",
       "      <th>REF</th>\n",
       "      <th>Review Date</th>\n",
       "      <th>Rating</th>\n",
       "      <th>CocoaPercent</th>\n",
       "      <th>A. Morin</th>\n",
       "      <th>Acalli</th>\n",
       "      <th>Adi</th>\n",
       "      <th>Aequare (Gianduja)</th>\n",
       "      <th>Ah Cacao</th>\n",
       "      <th>Akesson's (Pralus)</th>\n",
       "      <th>...</th>\n",
       "      <th>Guat., D.R., Peru, Mad., PNG</th>\n",
       "      <th>Peru, Dom. Rep</th>\n",
       "      <th>Dom. Rep., Madagascar</th>\n",
       "      <th>Gre., PNG, Haw., Haiti, Mad</th>\n",
       "      <th>Mad., Java, PNG</th>\n",
       "      <th>Ven, Bolivia, D.R.</th>\n",
       "      <th>DR, Ecuador, Peru</th>\n",
       "      <th>Peru, Ecuador</th>\n",
       "      <th>Ecuador, Mad., PNG</th>\n",
       "      <th>Venezuela, Carribean</th>\n",
       "    </tr>\n",
       "  </thead>\n",
       "  <tbody>\n",
       "    <tr>\n",
       "      <th>0</th>\n",
       "      <td>1876</td>\n",
       "      <td>2016</td>\n",
       "      <td>9</td>\n",
       "      <td>0.63</td>\n",
       "      <td>1</td>\n",
       "      <td>0</td>\n",
       "      <td>0</td>\n",
       "      <td>0</td>\n",
       "      <td>0</td>\n",
       "      <td>0</td>\n",
       "      <td>...</td>\n",
       "      <td>0</td>\n",
       "      <td>0</td>\n",
       "      <td>0</td>\n",
       "      <td>0</td>\n",
       "      <td>0</td>\n",
       "      <td>0</td>\n",
       "      <td>0</td>\n",
       "      <td>0</td>\n",
       "      <td>0</td>\n",
       "      <td>0</td>\n",
       "    </tr>\n",
       "    <tr>\n",
       "      <th>1</th>\n",
       "      <td>1676</td>\n",
       "      <td>2015</td>\n",
       "      <td>5</td>\n",
       "      <td>0.70</td>\n",
       "      <td>1</td>\n",
       "      <td>0</td>\n",
       "      <td>0</td>\n",
       "      <td>0</td>\n",
       "      <td>0</td>\n",
       "      <td>0</td>\n",
       "      <td>...</td>\n",
       "      <td>0</td>\n",
       "      <td>0</td>\n",
       "      <td>0</td>\n",
       "      <td>0</td>\n",
       "      <td>0</td>\n",
       "      <td>0</td>\n",
       "      <td>0</td>\n",
       "      <td>0</td>\n",
       "      <td>0</td>\n",
       "      <td>0</td>\n",
       "    </tr>\n",
       "    <tr>\n",
       "      <th>2</th>\n",
       "      <td>1676</td>\n",
       "      <td>2015</td>\n",
       "      <td>9</td>\n",
       "      <td>0.70</td>\n",
       "      <td>1</td>\n",
       "      <td>0</td>\n",
       "      <td>0</td>\n",
       "      <td>0</td>\n",
       "      <td>0</td>\n",
       "      <td>0</td>\n",
       "      <td>...</td>\n",
       "      <td>0</td>\n",
       "      <td>0</td>\n",
       "      <td>0</td>\n",
       "      <td>0</td>\n",
       "      <td>0</td>\n",
       "      <td>0</td>\n",
       "      <td>0</td>\n",
       "      <td>0</td>\n",
       "      <td>0</td>\n",
       "      <td>0</td>\n",
       "    </tr>\n",
       "    <tr>\n",
       "      <th>3</th>\n",
       "      <td>1680</td>\n",
       "      <td>2015</td>\n",
       "      <td>9</td>\n",
       "      <td>0.70</td>\n",
       "      <td>1</td>\n",
       "      <td>0</td>\n",
       "      <td>0</td>\n",
       "      <td>0</td>\n",
       "      <td>0</td>\n",
       "      <td>0</td>\n",
       "      <td>...</td>\n",
       "      <td>0</td>\n",
       "      <td>0</td>\n",
       "      <td>0</td>\n",
       "      <td>0</td>\n",
       "      <td>0</td>\n",
       "      <td>0</td>\n",
       "      <td>0</td>\n",
       "      <td>0</td>\n",
       "      <td>0</td>\n",
       "      <td>0</td>\n",
       "    </tr>\n",
       "    <tr>\n",
       "      <th>4</th>\n",
       "      <td>1704</td>\n",
       "      <td>2015</td>\n",
       "      <td>9</td>\n",
       "      <td>0.70</td>\n",
       "      <td>1</td>\n",
       "      <td>0</td>\n",
       "      <td>0</td>\n",
       "      <td>0</td>\n",
       "      <td>0</td>\n",
       "      <td>0</td>\n",
       "      <td>...</td>\n",
       "      <td>0</td>\n",
       "      <td>0</td>\n",
       "      <td>0</td>\n",
       "      <td>0</td>\n",
       "      <td>0</td>\n",
       "      <td>0</td>\n",
       "      <td>0</td>\n",
       "      <td>0</td>\n",
       "      <td>0</td>\n",
       "      <td>0</td>\n",
       "    </tr>\n",
       "  </tbody>\n",
       "</table>\n",
       "<p>5 rows × 1579 columns</p>\n",
       "</div>"
      ],
      "text/plain": [
       "    REF  Review Date  Rating  CocoaPercent  A. Morin  Acalli  Adi  \\\n",
       "0  1876         2016       9          0.63         1       0    0   \n",
       "1  1676         2015       5          0.70         1       0    0   \n",
       "2  1676         2015       9          0.70         1       0    0   \n",
       "3  1680         2015       9          0.70         1       0    0   \n",
       "4  1704         2015       9          0.70         1       0    0   \n",
       "\n",
       "   Aequare (Gianduja)  Ah Cacao  Akesson's (Pralus)  ...  \\\n",
       "0                   0         0                   0  ...   \n",
       "1                   0         0                   0  ...   \n",
       "2                   0         0                   0  ...   \n",
       "3                   0         0                   0  ...   \n",
       "4                   0         0                   0  ...   \n",
       "\n",
       "   Guat., D.R., Peru, Mad., PNG  Peru, Dom. Rep  Dom. Rep., Madagascar  \\\n",
       "0                             0               0                      0   \n",
       "1                             0               0                      0   \n",
       "2                             0               0                      0   \n",
       "3                             0               0                      0   \n",
       "4                             0               0                      0   \n",
       "\n",
       "   Gre., PNG, Haw., Haiti, Mad  Mad., Java, PNG  Ven, Bolivia, D.R.  \\\n",
       "0                            0                0                   0   \n",
       "1                            0                0                   0   \n",
       "2                            0                0                   0   \n",
       "3                            0                0                   0   \n",
       "4                            0                0                   0   \n",
       "\n",
       "   DR, Ecuador, Peru  Peru, Ecuador  Ecuador, Mad., PNG  Venezuela, Carribean  \n",
       "0                  0              0                   0                     0  \n",
       "1                  0              0                   0                     0  \n",
       "2                  0              0                   0                     0  \n",
       "3                  0              0                   0                     0  \n",
       "4                  0              0                   0                     0  \n",
       "\n",
       "[5 rows x 1579 columns]"
      ]
     },
     "execution_count": 36,
     "metadata": {},
     "output_type": "execute_result"
    }
   ],
   "source": [
    "# One-hot encode ALL categorical features\n",
    "def oneHot(category, hot):\n",
    "    if category == hot:\n",
    "        return 1\n",
    "    else:\n",
    "        return 0\n",
    "\n",
    "df_hot = df.copy()\n",
    "\n",
    "#Company\n",
    "for val in df_hot['Company (Maker-if known)'].unique():\n",
    "    df_hot[val] = df_hot['Company (Maker-if known)'].apply(oneHot, hot=val)\n",
    "df_hot = df_hot.drop(['Company (Maker-if known)'], axis=1)\n",
    "\n",
    "# Specific Bean Origin\n",
    "for val in df_hot['Specific Bean Origin or Bar Name'].unique():\n",
    "    df_hot[val] = df_hot['Specific Bean Origin or Bar Name'].apply(oneHot, hot=val)\n",
    "df_hot = df_hot.drop(['Specific Bean Origin or Bar Name'], axis=1)\n",
    "\n",
    "# Company Location\n",
    "for val in df_hot['Company Location'].unique():\n",
    "    df_hot[val] = df_hot['Company Location'].apply(oneHot, hot=val)\n",
    "df_hot = df_hot.drop(['Company Location'], axis=1)\n",
    "\n",
    "# Bean Type\n",
    "for val in df_hot['Bean Type'].unique():\n",
    "    df_hot[val] = df_hot['Bean Type'].apply(oneHot, hot=val)\n",
    "df_hot = df_hot.drop(['Bean Type'], axis=1)\n",
    "\n",
    "# Broad Bean Origin\n",
    "for val in df_hot['Broad Bean Origin'].unique():\n",
    "    df_hot[val] = df_hot['Broad Bean Origin'].apply(oneHot, hot=val)\n",
    "df_hot = df_hot.drop(['Broad Bean Origin'], axis=1)\n",
    "\n",
    "df_hot.head()"
   ]
  },
  {
   "cell_type": "code",
   "execution_count": 37,
   "metadata": {
    "scrolled": false
   },
   "outputs": [
    {
     "name": "stdout",
     "output_type": "stream",
     "text": [
      "<class 'pandas.core.frame.DataFrame'>\n",
      "RangeIndex: 1795 entries, 0 to 1794\n",
      "Columns: 1579 entries, REF to Venezuela, Carribean\n",
      "dtypes: float64(1), int64(1578)\n",
      "memory usage: 21.6 MB\n",
      "Index(['REF', 'Review Date', 'Rating', 'CocoaPercent', 'A. Morin', 'Acalli',\n",
      "       'Adi', 'Aequare (Gianduja)', 'Ah Cacao', 'Akesson's (Pralus)',\n",
      "       ...\n",
      "       'Guat., D.R., Peru, Mad., PNG', 'Peru, Dom. Rep',\n",
      "       'Dom. Rep., Madagascar', 'Gre., PNG, Haw., Haiti, Mad',\n",
      "       'Mad., Java, PNG', 'Ven, Bolivia, D.R.', 'DR, Ecuador, Peru',\n",
      "       'Peru, Ecuador', 'Ecuador, Mad., PNG', 'Venezuela, Carribean'],\n",
      "      dtype='object', length=1579)\n"
     ]
    }
   ],
   "source": [
    "df_hot.info()\n",
    "print(df_hot.columns)\n",
    "df_hot = df_hot.drop([' '], axis=1)"
   ]
  },
  {
   "cell_type": "code",
   "execution_count": 38,
   "metadata": {},
   "outputs": [],
   "source": [
    "# Split train and test data\n",
    "y = df_hot['Rating']\n",
    "X = df_hot.drop(columns=['Rating'])\n",
    "X_train, X_test, y_train, y_test = train_test_split(X, y, test_size=0.2, random_state=1)"
   ]
  },
  {
   "cell_type": "code",
   "execution_count": 39,
   "metadata": {
    "scrolled": true
   },
   "outputs": [
    {
     "name": "stdout",
     "output_type": "stream",
     "text": [
      "Accuracy: 0.6908077994428969\n"
     ]
    }
   ],
   "source": [
    "# Decision tree for one hot\n",
    "tree_clf = DecisionTreeClassifier(max_depth=5)\n",
    "tree_clf.fit(X_train,y_train)\n",
    "\n",
    "y_pred_hot_tree = tree_clf.predict(X_test)\n",
    "\n",
    "results_t3.append(accuracy_score(y_test, y_pred_hot_tree))\n",
    "print('Accuracy:', accuracy_score(y_test, y_pred_hot_tree))"
   ]
  },
  {
   "cell_type": "code",
   "execution_count": 40,
   "metadata": {},
   "outputs": [
    {
     "name": "stdout",
     "output_type": "stream",
     "text": [
      "Accuracy: 0.6740947075208914\n"
     ]
    }
   ],
   "source": [
    "# kNN for one hot\n",
    "knn_clf = KNeighborsClassifier(n_neighbors=7)\n",
    "knn_clf.fit(X_train, y_train)\n",
    "\n",
    "y_pred_hot_knn = knn_clf.predict(X_test)\n",
    "\n",
    "results_t3.append(accuracy_score(y_test, y_pred_hot_knn))\n",
    "print('Accuracy:', accuracy_score(y_test, y_pred_hot_knn))"
   ]
  },
  {
   "cell_type": "code",
   "execution_count": 41,
   "metadata": {},
   "outputs": [
    {
     "name": "stdout",
     "output_type": "stream",
     "text": [
      "Accuracy: 0.7103064066852368\n"
     ]
    }
   ],
   "source": [
    "# Logistic regression for one hot\n",
    "log_clf = LogisticRegression(random_state=0,max_iter=100,solver='liblinear')\n",
    "log_clf.fit(X_train, y_train)\n",
    "\n",
    "y_pred_hot_log = log_clf.predict(X_test)\n",
    "\n",
    "results_t3.append(accuracy_score(y_test, y_pred_hot_log))\n",
    "print('Accuracy:', accuracy_score(y_test, y_pred_hot_log))"
   ]
  },
  {
   "cell_type": "code",
   "execution_count": 42,
   "metadata": {},
   "outputs": [
    {
     "name": "stdout",
     "output_type": "stream",
     "text": [
      "Accuracy: 0.6935933147632312\n"
     ]
    }
   ],
   "source": [
    "# SVM for one hot\n",
    "svm_clf = make_pipeline(StandardScaler(), SVC(gamma='auto'))\n",
    "svm_clf.fit(X_train, y_train)\n",
    "\n",
    "y_pred_hot_svm = svm_clf.predict(X_test)\n",
    "\n",
    "results_t3.append(accuracy_score(y_test, y_pred_hot_svm))\n",
    "print('Accuracy:', accuracy_score(y_test, y_pred_hot_svm))"
   ]
  },
  {
   "cell_type": "code",
   "execution_count": 43,
   "metadata": {},
   "outputs": [
    {
     "name": "stdout",
     "output_type": "stream",
     "text": [
      "Accuracy: 0.7075208913649025\n"
     ]
    }
   ],
   "source": [
    "# Random Forest for one hot\n",
    "rnd_clf = RandomForestClassifier(n_estimators=100,max_leaf_nodes=15,n_jobs=-1)\n",
    "rnd_clf.fit(X_train, y_train)\n",
    "\n",
    "y_pred_hot_rnd = rnd_clf.predict(X_test)\n",
    "\n",
    "results_t3.append(accuracy_score(y_test, y_pred_hot_rnd))\n",
    "print('Accuracy:', accuracy_score(y_test, y_pred_hot_rnd))"
   ]
  },
  {
   "cell_type": "code",
   "execution_count": 44,
   "metadata": {},
   "outputs": [
    {
     "name": "stdout",
     "output_type": "stream",
     "text": [
      "Accuracy: 0.7047353760445683\n"
     ]
    }
   ],
   "source": [
    "# Voting Classifier for one hot\n",
    "voting_clf = VotingClassifier(\n",
    "    estimators=[('lr', log_clf), ('rf', rnd_clf), ('svc', svm_clf)],\n",
    "    voting='hard')\n",
    "voting_clf.fit(X_train, y_train)\n",
    "\n",
    "y_pred_hot_vote = voting_clf.predict(X_test)\n",
    "\n",
    "results_t3.append(accuracy_score(y_test, y_pred_hot_vote))\n",
    "print('Accuracy:', accuracy_score(y_test, y_pred_hot_vote))"
   ]
  },
  {
   "cell_type": "markdown",
   "metadata": {},
   "source": [
    "### Ordinal Encoding with mapped Rating (Test 4)"
   ]
  },
  {
   "cell_type": "code",
   "execution_count": 45,
   "metadata": {
    "scrolled": true
   },
   "outputs": [
    {
     "data": {
      "text/html": [
       "<div>\n",
       "<style scoped>\n",
       "    .dataframe tbody tr th:only-of-type {\n",
       "        vertical-align: middle;\n",
       "    }\n",
       "\n",
       "    .dataframe tbody tr th {\n",
       "        vertical-align: top;\n",
       "    }\n",
       "\n",
       "    .dataframe thead th {\n",
       "        text-align: right;\n",
       "    }\n",
       "</style>\n",
       "<table border=\"1\" class=\"dataframe\">\n",
       "  <thead>\n",
       "    <tr style=\"text-align: right;\">\n",
       "      <th></th>\n",
       "      <th>REF</th>\n",
       "      <th>Review Date</th>\n",
       "      <th>Rating</th>\n",
       "      <th>CocoaPercent</th>\n",
       "      <th>Company_ord</th>\n",
       "      <th>Specific_Bean_Origin_or_Bar_Name_ord</th>\n",
       "      <th>Company_Location_ord</th>\n",
       "      <th>Bean_Type_ord</th>\n",
       "      <th>Broad_Bean_Origin_ord</th>\n",
       "    </tr>\n",
       "  </thead>\n",
       "  <tbody>\n",
       "    <tr>\n",
       "      <th>0</th>\n",
       "      <td>1876</td>\n",
       "      <td>2016</td>\n",
       "      <td>9</td>\n",
       "      <td>0.63</td>\n",
       "      <td>0</td>\n",
       "      <td>14</td>\n",
       "      <td>18</td>\n",
       "      <td>40</td>\n",
       "      <td>67</td>\n",
       "    </tr>\n",
       "    <tr>\n",
       "      <th>1</th>\n",
       "      <td>1676</td>\n",
       "      <td>2015</td>\n",
       "      <td>5</td>\n",
       "      <td>0.70</td>\n",
       "      <td>0</td>\n",
       "      <td>492</td>\n",
       "      <td>18</td>\n",
       "      <td>40</td>\n",
       "      <td>77</td>\n",
       "    </tr>\n",
       "    <tr>\n",
       "      <th>2</th>\n",
       "      <td>1676</td>\n",
       "      <td>2015</td>\n",
       "      <td>9</td>\n",
       "      <td>0.70</td>\n",
       "      <td>0</td>\n",
       "      <td>67</td>\n",
       "      <td>18</td>\n",
       "      <td>40</td>\n",
       "      <td>77</td>\n",
       "    </tr>\n",
       "    <tr>\n",
       "      <th>3</th>\n",
       "      <td>1680</td>\n",
       "      <td>2015</td>\n",
       "      <td>9</td>\n",
       "      <td>0.70</td>\n",
       "      <td>0</td>\n",
       "      <td>15</td>\n",
       "      <td>18</td>\n",
       "      <td>40</td>\n",
       "      <td>77</td>\n",
       "    </tr>\n",
       "    <tr>\n",
       "      <th>4</th>\n",
       "      <td>1704</td>\n",
       "      <td>2015</td>\n",
       "      <td>9</td>\n",
       "      <td>0.70</td>\n",
       "      <td>0</td>\n",
       "      <td>809</td>\n",
       "      <td>18</td>\n",
       "      <td>40</td>\n",
       "      <td>55</td>\n",
       "    </tr>\n",
       "  </tbody>\n",
       "</table>\n",
       "</div>"
      ],
      "text/plain": [
       "    REF  Review Date  Rating  CocoaPercent  Company_ord  \\\n",
       "0  1876         2016       9          0.63            0   \n",
       "1  1676         2015       5          0.70            0   \n",
       "2  1676         2015       9          0.70            0   \n",
       "3  1680         2015       9          0.70            0   \n",
       "4  1704         2015       9          0.70            0   \n",
       "\n",
       "   Specific_Bean_Origin_or_Bar_Name_ord  Company_Location_ord  Bean_Type_ord  \\\n",
       "0                                    14                    18             40   \n",
       "1                                   492                    18             40   \n",
       "2                                    67                    18             40   \n",
       "3                                    15                    18             40   \n",
       "4                                   809                    18             40   \n",
       "\n",
       "   Broad_Bean_Origin_ord  \n",
       "0                     67  \n",
       "1                     77  \n",
       "2                     77  \n",
       "3                     77  \n",
       "4                     55  "
      ]
     },
     "execution_count": 45,
     "metadata": {},
     "output_type": "execute_result"
    }
   ],
   "source": [
    "#0   Company (Maker-if known)          1795 non-null   object \n",
    "# 1   Specific Bean Origin or Bar Name  1795 non-null   object \n",
    "# 2   REF                               1795 non-null   int64  \n",
    "# 3   Review Date                       1795 non-null   int64  \n",
    "# 4   Cocoa Percent                     1795 non-null   object \n",
    "# 5   Company Location                  1795 non-null   object \n",
    "# 6   Rating                            1795 non-null   float64\n",
    "# 7   Bean Type                         1794 non-null   object \n",
    "# 8   Broad Bean Origin                 1794 non-null   object\n",
    "\n",
    "# Ordinal encode all categorical values\n",
    "df_ord = df.copy()\n",
    "# Company\n",
    "df_ord[\"Company_ord\"] = df_ord[\"Company (Maker-if known)\"].astype('category')\n",
    "df_ord[\"Company_ord\"] = df_ord[\"Company_ord\"].cat.codes\n",
    "df_ord = df_ord.drop(['Company (Maker-if known)'], axis=1)\n",
    "\n",
    "# Specific Bean Origin\n",
    "df_ord[\"Specific_Bean_Origin_or_Bar_Name_ord\"] = df_ord[\"Specific Bean Origin or Bar Name\"].astype('category')\n",
    "df_ord[\"Specific_Bean_Origin_or_Bar_Name_ord\"] = df_ord[\"Specific_Bean_Origin_or_Bar_Name_ord\"].cat.codes\n",
    "df_ord = df_ord.drop(['Specific Bean Origin or Bar Name'], axis=1)\n",
    "\n",
    "# Company Location\n",
    "df_ord[\"Company_Location_ord\"] = df_ord[\"Company Location\"].astype('category')\n",
    "df_ord[\"Company_Location_ord\"] = df_ord[\"Company_Location_ord\"].cat.codes\n",
    "df_ord = df_ord.drop(['Company Location'], axis=1)\n",
    "\n",
    "# Bean Type\n",
    "df_ord[\"Bean_Type_ord\"] = df_ord[\"Bean Type\"].astype('category')\n",
    "df_ord[\"Bean_Type_ord\"] = df_ord[\"Bean_Type_ord\"].cat.codes\n",
    "df_ord = df_ord.drop(['Bean Type'], axis=1)\n",
    "\n",
    "# Broad Bean Origin\n",
    "df_ord[\"Broad_Bean_Origin_ord\"] = df_ord[\"Broad Bean Origin\"].astype('category')\n",
    "df_ord[\"Broad_Bean_Origin_ord\"] = df_ord[\"Broad_Bean_Origin_ord\"].cat.codes\n",
    "df_ord = df_ord.drop(['Broad Bean Origin'], axis=1)\n",
    "\n",
    "df_ord.head()"
   ]
  },
  {
   "cell_type": "code",
   "execution_count": 46,
   "metadata": {},
   "outputs": [],
   "source": [
    "# Split train and test data\n",
    "#from sklearn.model_selection import train_test_split\n",
    "y = df_ord['Rating']\n",
    "X = df_ord.drop(columns=['Rating'])\n",
    "X_train, X_test, y_train, y_test = train_test_split(X, y, test_size=0.2, random_state=1)"
   ]
  },
  {
   "cell_type": "code",
   "execution_count": 47,
   "metadata": {},
   "outputs": [
    {
     "name": "stdout",
     "output_type": "stream",
     "text": [
      "Accuracy: 0.7075208913649025\n"
     ]
    }
   ],
   "source": [
    "# Decision tree for ordinal\n",
    "tree_clf = DecisionTreeClassifier(max_depth=1)\n",
    "tree_clf.fit(X_train,y_train)\n",
    "\n",
    "y_pred_ord_tree = tree_clf.predict(X_test)\n",
    "\n",
    "results_t4.append(accuracy_score(y_test, y_pred_ord_tree))\n",
    "print('Accuracy:', accuracy_score(y_test, y_pred_ord_tree))"
   ]
  },
  {
   "cell_type": "code",
   "execution_count": 48,
   "metadata": {},
   "outputs": [
    {
     "name": "stdout",
     "output_type": "stream",
     "text": [
      "Accuracy: 0.6545961002785515\n"
     ]
    }
   ],
   "source": [
    "# kNN for ordinal\n",
    "knn_clf = KNeighborsClassifier(n_neighbors=7)\n",
    "knn_clf.fit(X_train, y_train)\n",
    "\n",
    "y_pred_ord_knn = knn_clf.predict(X_test)\n",
    "\n",
    "results_t4.append(accuracy_score(y_test, y_pred_ord_knn))\n",
    "print('Accuracy:', accuracy_score(y_test, y_pred_ord_knn))"
   ]
  },
  {
   "cell_type": "code",
   "execution_count": 49,
   "metadata": {},
   "outputs": [
    {
     "name": "stdout",
     "output_type": "stream",
     "text": [
      "Accuracy: 0.7075208913649025\n"
     ]
    }
   ],
   "source": [
    "# Logistical regression for ordinal\n",
    "log_clf = LogisticRegression(random_state=0,max_iter=50,solver='liblinear')\n",
    "log_clf.fit(X_train, y_train)\n",
    "\n",
    "y_pred_ord_log = log_clf.predict(X_test)\n",
    "\n",
    "results_t4.append(accuracy_score(y_test, y_pred_ord_log))\n",
    "print('Accuracy:', accuracy_score(y_test, y_pred_ord_log))"
   ]
  },
  {
   "cell_type": "code",
   "execution_count": 50,
   "metadata": {},
   "outputs": [
    {
     "name": "stdout",
     "output_type": "stream",
     "text": [
      "Accuracy: 0.7075208913649025\n"
     ]
    }
   ],
   "source": [
    "# SVM for ordinal\n",
    "svm_clf = make_pipeline(StandardScaler(), SVC(gamma='auto'))\n",
    "svm_clf.fit(X_train, y_train)\n",
    "\n",
    "y_pred_ord_svm = svm_clf.predict(X_test)\n",
    "\n",
    "results_t4.append(accuracy_score(y_test, y_pred_ord_svm))\n",
    "print('Accuracy:', accuracy_score(y_test, y_pred_ord_svm))"
   ]
  },
  {
   "cell_type": "code",
   "execution_count": 51,
   "metadata": {},
   "outputs": [
    {
     "name": "stdout",
     "output_type": "stream",
     "text": [
      "Accuracy: 0.7075208913649025\n"
     ]
    }
   ],
   "source": [
    "# Random Forest for ordinal\n",
    "rnd_clf = RandomForestClassifier(n_estimators=100,max_leaf_nodes=2,n_jobs=-1)\n",
    "rnd_clf.fit(X_train, y_train)\n",
    "\n",
    "y_pred_ord_rnd = rnd_clf.predict(X_test)\n",
    "\n",
    "results_t4.append(accuracy_score(y_test, y_pred_ord_rnd))\n",
    "print('Accuracy:', accuracy_score(y_test, y_pred_ord_rnd))"
   ]
  },
  {
   "cell_type": "code",
   "execution_count": 52,
   "metadata": {},
   "outputs": [
    {
     "name": "stdout",
     "output_type": "stream",
     "text": [
      "Accuracy: 0.7075208913649025\n"
     ]
    }
   ],
   "source": [
    "# Voting Classifier for ordinal\n",
    "voting_clf = VotingClassifier(\n",
    "    estimators=[('lr', log_clf), ('rf', rnd_clf), ('svc', svm_clf)],\n",
    "    voting='hard')\n",
    "voting_clf.fit(X_train, y_train)\n",
    "\n",
    "y_pred_ord_vote = voting_clf.predict(X_test)\n",
    "\n",
    "results_t4.append(accuracy_score(y_test, y_pred_ord_vote))\n",
    "print('Accuracy:', accuracy_score(y_test, y_pred_ord_vote))"
   ]
  },
  {
   "cell_type": "markdown",
   "metadata": {},
   "source": [
    "## 3. Results"
   ]
  },
  {
   "cell_type": "code",
   "execution_count": 53,
   "metadata": {},
   "outputs": [
    {
     "data": {
      "text/html": [
       "<div>\n",
       "<style scoped>\n",
       "    .dataframe tbody tr th:only-of-type {\n",
       "        vertical-align: middle;\n",
       "    }\n",
       "\n",
       "    .dataframe tbody tr th {\n",
       "        vertical-align: top;\n",
       "    }\n",
       "\n",
       "    .dataframe thead th {\n",
       "        text-align: right;\n",
       "    }\n",
       "</style>\n",
       "<table border=\"1\" class=\"dataframe\">\n",
       "  <thead>\n",
       "    <tr style=\"text-align: right;\">\n",
       "      <th></th>\n",
       "      <th>Decision Tree</th>\n",
       "      <th>kNN</th>\n",
       "      <th>Log. Regression</th>\n",
       "      <th>SVM</th>\n",
       "      <th>Rand. Forest</th>\n",
       "      <th>Voting</th>\n",
       "    </tr>\n",
       "  </thead>\n",
       "  <tbody>\n",
       "    <tr>\n",
       "      <th>0</th>\n",
       "      <td>0.690808</td>\n",
       "      <td>0.674095</td>\n",
       "      <td>0.710306</td>\n",
       "      <td>0.693593</td>\n",
       "      <td>0.707521</td>\n",
       "      <td>0.704735</td>\n",
       "    </tr>\n",
       "    <tr>\n",
       "      <th>1</th>\n",
       "      <td>0.707521</td>\n",
       "      <td>0.654596</td>\n",
       "      <td>0.707521</td>\n",
       "      <td>0.707521</td>\n",
       "      <td>0.707521</td>\n",
       "      <td>0.707521</td>\n",
       "    </tr>\n",
       "    <tr>\n",
       "      <th>2</th>\n",
       "      <td>0.690808</td>\n",
       "      <td>0.674095</td>\n",
       "      <td>0.710306</td>\n",
       "      <td>0.693593</td>\n",
       "      <td>0.707521</td>\n",
       "      <td>0.704735</td>\n",
       "    </tr>\n",
       "    <tr>\n",
       "      <th>3</th>\n",
       "      <td>0.707521</td>\n",
       "      <td>0.654596</td>\n",
       "      <td>0.707521</td>\n",
       "      <td>0.707521</td>\n",
       "      <td>0.707521</td>\n",
       "      <td>0.707521</td>\n",
       "    </tr>\n",
       "  </tbody>\n",
       "</table>\n",
       "</div>"
      ],
      "text/plain": [
       "   Decision Tree       kNN  Log. Regression       SVM  Rand. Forest    Voting\n",
       "0       0.690808  0.674095         0.710306  0.693593      0.707521  0.704735\n",
       "1       0.707521  0.654596         0.707521  0.707521      0.707521  0.707521\n",
       "2       0.690808  0.674095         0.710306  0.693593      0.707521  0.704735\n",
       "3       0.707521  0.654596         0.707521  0.707521      0.707521  0.707521"
      ]
     },
     "execution_count": 53,
     "metadata": {},
     "output_type": "execute_result"
    }
   ],
   "source": [
    "# Results in a table\n",
    "\n",
    "# Adjust results to make a dataframe\n",
    "d_tree_res = [results_t1[0], results_t2[0], results_t3[0], results_t4[0]]\n",
    "knn_res = [results_t1[1], results_t2[1], results_t3[1], results_t4[1]]\n",
    "log_reg_res = [results_t1[2], results_t2[2], results_t3[2], results_t4[2]]\n",
    "svm_res = [results_t1[3], results_t2[3], results_t3[3], results_t4[3]]\n",
    "rand_for_res = [results_t1[4], results_t2[4], results_t3[4], results_t4[4]]\n",
    "vote_res = [results_t1[5], results_t2[5], results_t3[5], results_t4[5]]\n",
    "\n",
    "res_df = pd.DataFrame({'Decision Tree':d_tree_res, 'kNN':knn_res, 'Log. Regression':log_reg_res, 'SVM':svm_res,\n",
    "                      'Rand. Forest':rand_for_res, 'Voting':vote_res})\n",
    "res_df.set_index = ['Test 1', 'Test 2', 'Test 3', 'Test 4']\n",
    "res_df"
   ]
  },
  {
   "cell_type": "code",
   "execution_count": 54,
   "metadata": {},
   "outputs": [
    {
     "data": {
      "image/png": "[encoded data removed]",
      "text/plain": [
       "<Figure size 432x288 with 1 Axes>"
      ]
     },
     "metadata": {
      "needs_background": "light"
     },
     "output_type": "display_data"
    }
   ],
   "source": [
    "# Plot results in a bar plot\n",
    "data = [results_t1, results_t2, results_t3, results_t4]\n",
    "X = np.arange(len(results_t1))\n",
    "fig = plt.figure()\n",
    "ax = fig.add_axes([0,0,1,1])\n",
    "rect1 = ax.bar(X + 0.00, data[0], color = 'b', width = 0.2, label='Test 1')\n",
    "rect2 = ax.bar(X + 0.20, data[1], color = 'g', width = 0.2, label='Test 2')\n",
    "rect3 = ax.bar(X + 0.40, data[2], color = 'r', width = 0.2, label='Test 3')\n",
    "rect4 = ax.bar(X + 0.60, data[3], color = 'y', width = 0.2, label='Test 4')\n",
    "\n",
    "plt.xlabel('Classifier', fontweight='bold')\n",
    "plt.xticks([r + 0.2 for r in range(len(results_t1))], [' Decision tree', ' kNN', ' Log. reg.', ' SVM',\n",
    "                                                       ' Rand. Forest', ' Voting'])\n",
    "plt.ylabel('Accuracy (Percentage)', fontweight='bold')\n",
    "\n",
    "plt.legend(bbox_to_anchor=(1.05, 1), loc='upper left')\n",
    "plt.show()"
   ]
  },
  {
   "cell_type": "code",
   "execution_count": null,
   "metadata": {},
   "outputs": [],
   "source": []
  },
  {
   "cell_type": "code",
   "execution_count": null,
   "metadata": {},
   "outputs": [],
   "source": []
  },
  {
   "cell_type": "code",
   "execution_count": null,
   "metadata": {},
   "outputs": [],
   "source": []
  },
  {
   "cell_type": "code",
   "execution_count": null,
   "metadata": {},
   "outputs": [],
   "source": []
  },
  {
   "cell_type": "code",
   "execution_count": null,
   "metadata": {},
   "outputs": [],
   "source": []
  },
  {
   "cell_type": "code",
   "execution_count": null,
   "metadata": {},
   "outputs": [],
   "source": []
  },
  {
   "cell_type": "code",
   "execution_count": null,
   "metadata": {},
   "outputs": [],
   "source": []
  }
 ],
 "metadata": {
  "kernelspec": {
   "display_name": "Python 3",
   "language": "python",
   "name": "python3"
  },
  "language_info": {
   "codemirror_mode": {
    "name": "ipython",
    "version": 3
   },
   "file_extension": ".py",
   "mimetype": "text/x-python",
   "name": "python",
   "nbconvert_exporter": "python",
   "pygments_lexer": "ipython3",
   "version": "3.7.6"
  }
 },
 "nbformat": 4,
 "nbformat_minor": 4
}
